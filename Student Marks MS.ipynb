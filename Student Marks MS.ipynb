{
  "nbformat": 4,
  "nbformat_minor": 0,
  "metadata": {
    "colab": {
      "provenance": []
    },
    "kernelspec": {
      "name": "python3",
      "display_name": "Python 3"
    },
    "language_info": {
      "name": "python"
    }
  },
  "cells": [
    {
      "cell_type": "markdown",
      "source": [
        "**DATA CREATION**"
      ],
      "metadata": {
        "id": "k4WIX4dSH_S2"
      }
    },
    {
      "cell_type": "code",
      "execution_count": 2,
      "metadata": {
        "colab": {
          "base_uri": "https://localhost:8080/"
        },
        "id": "ja9d-cSxHOLw",
        "outputId": "8099d7d6-67ed-4cc1-9b79-4b139264c230"
      },
      "outputs": [
        {
          "output_type": "stream",
          "name": "stdout",
          "text": [
            "['Akhil' 'Sia' 'Lia']\n",
            "['Maths' 'English' 'science' 'Social']\n",
            "[[89 56 87 67]\n",
            " [78 56 46 90]\n",
            " [98 89 90 78]]\n"
          ]
        }
      ],
      "source": [
        "import numpy as np\n",
        "student=np.array(['Akhil','Sia','Lia'])\n",
        "subjects=np.array(['Maths','English','science','Social'])\n",
        "marks=np.array([[89,56,87,67],\n",
        "               [78,56,46,90],\n",
        "               [98,89,90,78]])\n",
        "print(student)\n",
        "print(subjects)\n",
        "print(marks)"
      ]
    },
    {
      "cell_type": "markdown",
      "source": [
        "**DATA EXPLORATION**"
      ],
      "metadata": {
        "id": "kh8Y8dMHIpS5"
      }
    },
    {
      "cell_type": "markdown",
      "source": [
        "**Dimension**"
      ],
      "metadata": {
        "id": "5CsNgmIsIvEZ"
      }
    },
    {
      "cell_type": "code",
      "source": [
        "print(student.ndim)\n",
        "print(subjects.ndim)\n",
        "print(marks.ndim)"
      ],
      "metadata": {
        "colab": {
          "base_uri": "https://localhost:8080/"
        },
        "id": "-3aliK9xIc3J",
        "outputId": "284bc2c0-c7d4-4a0c-c674-103ecc7cfc44"
      },
      "execution_count": 3,
      "outputs": [
        {
          "output_type": "stream",
          "name": "stdout",
          "text": [
            "1\n",
            "1\n",
            "2\n"
          ]
        }
      ]
    },
    {
      "cell_type": "markdown",
      "source": [
        "**Size**"
      ],
      "metadata": {
        "id": "f5BMIzdnI9v6"
      }
    },
    {
      "cell_type": "code",
      "source": [
        "print(student.size)\n",
        "print(subjects.size)\n",
        "print(marks.size)"
      ],
      "metadata": {
        "colab": {
          "base_uri": "https://localhost:8080/"
        },
        "id": "fn2u0SZkI-JV",
        "outputId": "d1266084-ef28-4782-e03e-7094e5e0810a"
      },
      "execution_count": 4,
      "outputs": [
        {
          "output_type": "stream",
          "name": "stdout",
          "text": [
            "3\n",
            "4\n",
            "12\n"
          ]
        }
      ]
    },
    {
      "cell_type": "markdown",
      "source": [
        "**Structure**"
      ],
      "metadata": {
        "id": "q3V9Z6BvJHiH"
      }
    },
    {
      "cell_type": "code",
      "source": [
        "print(student.shape)\n",
        "print(subjects.shape)\n",
        "print(marks.shape)"
      ],
      "metadata": {
        "colab": {
          "base_uri": "https://localhost:8080/"
        },
        "id": "z-jChy5PJJ7h",
        "outputId": "5c7c3ca1-52e9-47d3-8db5-48cad2bd07b7"
      },
      "execution_count": 5,
      "outputs": [
        {
          "output_type": "stream",
          "name": "stdout",
          "text": [
            "(3,)\n",
            "(4,)\n",
            "(3, 4)\n"
          ]
        }
      ]
    },
    {
      "cell_type": "markdown",
      "source": [
        "**DATA TRANSPORMATION**"
      ],
      "metadata": {
        "id": "b7L4f99NJvKr"
      }
    },
    {
      "cell_type": "markdown",
      "source": [
        "**Reshape**"
      ],
      "metadata": {
        "id": "6vWkbY2nJ3WR"
      }
    },
    {
      "cell_type": "code",
      "source": [
        "reshaped = marks.reshape(4,3)\n",
        "print(reshaped)"
      ],
      "metadata": {
        "colab": {
          "base_uri": "https://localhost:8080/"
        },
        "id": "0a0wlbYtJ5qr",
        "outputId": "dd06ac5f-4e16-4748-f8bc-12e7a908e997"
      },
      "execution_count": 6,
      "outputs": [
        {
          "output_type": "stream",
          "name": "stdout",
          "text": [
            "[[89 56 87]\n",
            " [67 78 56]\n",
            " [46 90 98]\n",
            " [89 90 78]]\n"
          ]
        }
      ]
    },
    {
      "cell_type": "markdown",
      "source": [
        "**Recognisation**"
      ],
      "metadata": {
        "id": "kz0qv3QyKiER"
      }
    },
    {
      "cell_type": "code",
      "source": [
        "for i, stud in enumerate(student):\n",
        "    print(f\"\\nStudent: {stud}\")\n",
        "    for j, subj in enumerate(subjects):\n",
        "        print(f\"{subj}: {marks[i, j]}\")"
      ],
      "metadata": {
        "colab": {
          "base_uri": "https://localhost:8080/"
        },
        "id": "JUbGLU3bJ8T0",
        "outputId": "343141b2-ca6a-412c-cd11-f1404503680a"
      },
      "execution_count": 7,
      "outputs": [
        {
          "output_type": "stream",
          "name": "stdout",
          "text": [
            "\n",
            "Student: Akhil\n",
            "Maths: 89\n",
            "English: 56\n",
            "science: 87\n",
            "Social: 67\n",
            "\n",
            "Student: Sia\n",
            "Maths: 78\n",
            "English: 56\n",
            "science: 46\n",
            "Social: 90\n",
            "\n",
            "Student: Lia\n",
            "Maths: 98\n",
            "English: 89\n",
            "science: 90\n",
            "Social: 78\n"
          ]
        }
      ]
    },
    {
      "cell_type": "markdown",
      "source": [
        "**DATA COMBINATION**"
      ],
      "metadata": {
        "id": "i30gKXkHLLA5"
      }
    },
    {
      "cell_type": "code",
      "source": [
        "print(f\"{'Name':^10}\", end=\"\")\n",
        "for subj in subjects:\n",
        "    print(f\"{subj:^8}\", end=\"\")\n",
        "print()\n",
        "\n",
        "for i, stud in enumerate(student):\n",
        "    print(f\"{stud:^10}\", end=\"\")\n",
        "    for j, subj in enumerate(subjects):\n",
        "        print(f\"{marks[i, j]:^8}\", end=\"\")\n",
        "    print()"
      ],
      "metadata": {
        "colab": {
          "base_uri": "https://localhost:8080/"
        },
        "id": "UZz6zaK3LKCG",
        "outputId": "331bef9b-a672-4fd6-8739-3325bb383c83"
      },
      "execution_count": 21,
      "outputs": [
        {
          "output_type": "stream",
          "name": "stdout",
          "text": [
            "   Name    Maths  English science  Social \n",
            "  Akhil      89      56      87      67   \n",
            "   Sia       78      56      46      90   \n",
            "   Lia       98      89      90      78   \n"
          ]
        }
      ]
    },
    {
      "cell_type": "markdown",
      "source": [
        "Adding new students and Marks"
      ],
      "metadata": {
        "id": "Pwl0-H0eOks0"
      }
    },
    {
      "cell_type": "code",
      "source": [
        "print(student)\n",
        "\n",
        "new_students = np.array(['Rahul', 'Priya'])\n",
        "new_marks = np.array([[90, 85, 95, 80],\n",
        "                      [85, 90, 80, 95]])\n",
        "\n",
        "students = np.append(student, new_students)\n",
        "marks = np.vstack((marks, new_marks))"
      ],
      "metadata": {
        "colab": {
          "base_uri": "https://localhost:8080/"
        },
        "id": "uRrZhqkdOljO",
        "outputId": "c348f4b8-c792-43a9-e829-f89e71ddd09a"
      },
      "execution_count": 22,
      "outputs": [
        {
          "output_type": "stream",
          "name": "stdout",
          "text": [
            "['Akhil' 'Sia' 'Lia']\n"
          ]
        }
      ]
    },
    {
      "cell_type": "code",
      "source": [
        "print(f\"{'Name':^10}\", end=\"\")\n",
        "for subj in subjects:\n",
        "    print(f\"{subj:^8}\", end=\"\")\n",
        "print()\n",
        "\n",
        "for i, stud in enumerate(students):\n",
        "    print(f\"{stud:^10}\", end=\"\")\n",
        "    for mark in marks[i]:\n",
        "        print(f\"{mark:^8}\", end=\"\")\n",
        "    print()"
      ],
      "metadata": {
        "colab": {
          "base_uri": "https://localhost:8080/"
        },
        "id": "RKtLFD17Orvl",
        "outputId": "ba61dc4c-cfc3-4e80-8bb2-a367637bd5b5"
      },
      "execution_count": 23,
      "outputs": [
        {
          "output_type": "stream",
          "name": "stdout",
          "text": [
            "   Name    Maths  English science  Social \n",
            "  Akhil      89      56      87      67   \n",
            "   Sia       78      56      46      90   \n",
            "   Lia       98      89      90      78   \n",
            "  Rahul      90      85      95      80   \n",
            "  Priya      85      90      80      95   \n"
          ]
        }
      ]
    },
    {
      "cell_type": "markdown",
      "source": [
        "**DATA MODIFICATION**"
      ],
      "metadata": {
        "id": "-rDm2eBcOxOW"
      }
    },
    {
      "cell_type": "code",
      "source": [
        "marks[0] = [90, 80, 85, 95]  # Update marks for Akhil\n",
        "print(\"\\nUpdated marks for Akhil:\")\n",
        "print(f\"{'Name':^10}\", end=\"\")\n",
        "for subj in subjects:\n",
        "    print(f\"{subj:^8}\", end=\"\")\n",
        "print()\n",
        "\n",
        "for i, stud in enumerate(students):\n",
        "    print(f\"{stud:^10}\", end=\"\")\n",
        "    for mark in marks[i]:\n",
        "        print(f\"{mark:^8}\", end=\"\")\n",
        "    print()"
      ],
      "metadata": {
        "colab": {
          "base_uri": "https://localhost:8080/"
        },
        "id": "i1UOQmFvO0Kh",
        "outputId": "32be8442-6308-4061-bdba-9c5b8f85bd76"
      },
      "execution_count": 24,
      "outputs": [
        {
          "output_type": "stream",
          "name": "stdout",
          "text": [
            "\n",
            "Updated marks for Akhil:\n",
            "   Name    Maths  English science  Social \n",
            "  Akhil      90      80      85      95   \n",
            "   Sia       78      56      46      90   \n",
            "   Lia       98      89      90      78   \n",
            "  Rahul      90      85      95      80   \n",
            "  Priya      85      90      80      95   \n"
          ]
        }
      ]
    },
    {
      "cell_type": "code",
      "source": [
        "new_subject = np.array([80, 75, 90, 85, 95])  # New subject marks\n",
        "marks = np.column_stack((marks, new_subject))  # Add new subject marks\n",
        "subjects = np.append(subjects, 'History')  # Add new subject name\n",
        "\n",
        "print(\"\\nUpdated data with new subject:\")\n",
        "print(f\"{'Name':^10}\", end=\"\")\n",
        "for subj in subjects:\n",
        "    print(f\"{subj:^8}\", end=\"\")\n",
        "print()\n",
        "\n",
        "for i, stud in enumerate(students):\n",
        "    print(f\"{stud:^10}\", end=\"\")\n",
        "    for mark in marks[i]:\n",
        "        print(f\"{mark:^8}\", end=\"\")\n",
        "    print()"
      ],
      "metadata": {
        "colab": {
          "base_uri": "https://localhost:8080/"
        },
        "id": "jwZ9KUUrO7ep",
        "outputId": "99d463d4-aee4-4d66-c16a-909f31869234"
      },
      "execution_count": 25,
      "outputs": [
        {
          "output_type": "stream",
          "name": "stdout",
          "text": [
            "\n",
            "Updated data with new subject:\n",
            "   Name    Maths  English science  Social History \n",
            "  Akhil      90      80      85      95      80   \n",
            "   Sia       78      56      46      90      75   \n",
            "   Lia       98      89      90      78      90   \n",
            "  Rahul      90      85      95      80      85   \n",
            "  Priya      85      90      80      95      95   \n"
          ]
        }
      ]
    },
    {
      "cell_type": "code",
      "source": [
        "students = np.delete(students, 0)  # Delete first student (Akhil)\n",
        "marks = np.delete(marks, 0, axis=0)  # Delete marks for first student\n",
        "\n",
        "print(\"\\nUpdated data after deleting Akhil:\")\n",
        "print(f\"{'Name':^10}\", end=\"\")\n",
        "for subj in subjects:\n",
        "    print(f\"{subj:^8}\", end=\"\")\n",
        "print()\n",
        "\n",
        "for i, stud in enumerate(students):\n",
        "    print(f\"{stud:^10}\", end=\"\")\n",
        "    for mark in marks[i]:\n",
        "        print(f\"{mark:^8}\", end=\"\")\n",
        "    print()\n"
      ],
      "metadata": {
        "colab": {
          "base_uri": "https://localhost:8080/"
        },
        "id": "vEZ9m4PGPJ5I",
        "outputId": "5bc3a896-3de2-43d5-bb05-506328776aef"
      },
      "execution_count": 26,
      "outputs": [
        {
          "output_type": "stream",
          "name": "stdout",
          "text": [
            "\n",
            "Updated data after deleting Akhil:\n",
            "   Name    Maths  English science  Social History \n",
            "   Sia       78      56      46      90      75   \n",
            "   Lia       98      89      90      78      90   \n",
            "  Rahul      90      85      95      80      85   \n",
            "  Priya      85      90      80      95      95   \n"
          ]
        }
      ]
    },
    {
      "cell_type": "markdown",
      "source": [
        "**DATATYPE HANDLING**"
      ],
      "metadata": {
        "id": "XDSwCKrXPR3_"
      }
    },
    {
      "cell_type": "code",
      "source": [
        "result_int = marks // 2\n",
        "result_float = marks / 2\n",
        "\n",
        "print(\"Integer Division ( NumPy handles integer division differently than Python):\")\n",
        "print(result_int)\n",
        "print(\"Float Division:\")\n",
        "print(result_float)"
      ],
      "metadata": {
        "colab": {
          "base_uri": "https://localhost:8080/"
        },
        "id": "HmLYLYpCPWHO",
        "outputId": "c95fc7e9-2965-4f68-e27b-e8e42795d1f1"
      },
      "execution_count": 27,
      "outputs": [
        {
          "output_type": "stream",
          "name": "stdout",
          "text": [
            "Integer Division ( NumPy handles integer division differently than Python):\n",
            "[[39 28 23 45 37]\n",
            " [49 44 45 39 45]\n",
            " [45 42 47 40 42]\n",
            " [42 45 40 47 47]]\n",
            "Float Division:\n",
            "[[39.  28.  23.  45.  37.5]\n",
            " [49.  44.5 45.  39.  45. ]\n",
            " [45.  42.5 47.5 40.  42.5]\n",
            " [42.5 45.  40.  47.5 47.5]]\n"
          ]
        }
      ]
    },
    {
      "cell_type": "code",
      "source": [
        "result_int_div_float = marks / 2.0\n",
        "print(\"\\nInteger array divided by a float:\")\n",
        "print(result_int_div_float)"
      ],
      "metadata": {
        "colab": {
          "base_uri": "https://localhost:8080/"
        },
        "id": "hlm4e44HQomt",
        "outputId": "f608513e-4593-4e99-db74-629abf15649f"
      },
      "execution_count": 28,
      "outputs": [
        {
          "output_type": "stream",
          "name": "stdout",
          "text": [
            "\n",
            "Integer array divided by a float:\n",
            "[[39.  28.  23.  45.  37.5]\n",
            " [49.  44.5 45.  39.  45. ]\n",
            " [45.  42.5 47.5 40.  42.5]\n",
            " [42.5 45.  40.  47.5 47.5]]\n"
          ]
        }
      ]
    },
    {
      "cell_type": "markdown",
      "source": [
        "**COPY AND VIEW BEHAVIOR**"
      ],
      "metadata": {
        "id": "t4a3L5YRQ-VW"
      }
    },
    {
      "cell_type": "code",
      "source": [
        "full_copy = marks.copy()\n",
        "\n",
        "view = marks.view()\n",
        "\n",
        "print(\"Original Array:\")\n",
        "print(marks)\n",
        "\n",
        "print(\"\\nFull Copy:\")\n",
        "print(full_copy)\n",
        "\n",
        "print(\"\\nView:\")\n",
        "print(view)\n",
        "\n",
        "# Modifying the original array\n",
        "marks[0, 0] = 100\n",
        "\n",
        "print(\"\\nAfter modifying the original array:\")\n",
        "\n",
        "print(\"Original Array:\")\n",
        "print(marks)\n",
        "\n",
        "print(\"\\nFull Copy:\")\n",
        "print(full_copy)\n",
        "\n",
        "print(\"\\nView:\")\n",
        "print(view)"
      ],
      "metadata": {
        "colab": {
          "base_uri": "https://localhost:8080/"
        },
        "id": "_PAh55KFRGgi",
        "outputId": "a6658987-c3c2-4691-e930-c8c992938588"
      },
      "execution_count": 29,
      "outputs": [
        {
          "output_type": "stream",
          "name": "stdout",
          "text": [
            "Original Array:\n",
            "[[78 56 46 90 75]\n",
            " [98 89 90 78 90]\n",
            " [90 85 95 80 85]\n",
            " [85 90 80 95 95]]\n",
            "\n",
            "Full Copy:\n",
            "[[78 56 46 90 75]\n",
            " [98 89 90 78 90]\n",
            " [90 85 95 80 85]\n",
            " [85 90 80 95 95]]\n",
            "\n",
            "View:\n",
            "[[78 56 46 90 75]\n",
            " [98 89 90 78 90]\n",
            " [90 85 95 80 85]\n",
            " [85 90 80 95 95]]\n",
            "\n",
            "After modifying the original array:\n",
            "Original Array:\n",
            "[[100  56  46  90  75]\n",
            " [ 98  89  90  78  90]\n",
            " [ 90  85  95  80  85]\n",
            " [ 85  90  80  95  95]]\n",
            "\n",
            "Full Copy:\n",
            "[[78 56 46 90 75]\n",
            " [98 89 90 78 90]\n",
            " [90 85 95 80 85]\n",
            " [85 90 80 95 95]]\n",
            "\n",
            "View:\n",
            "[[100  56  46  90  75]\n",
            " [ 98  89  90  78  90]\n",
            " [ 90  85  95  80  85]\n",
            " [ 85  90  80  95  95]]\n"
          ]
        }
      ]
    }
  ]
}